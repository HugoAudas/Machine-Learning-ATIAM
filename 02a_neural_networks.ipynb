{
 "cells": [
  {
   "cell_type": "markdown",
   "metadata": {},
   "source": [
    "# Music machine learning - Neural networks\n",
    "\n",
    "### Author: Philippe Esling (esling@ircam.fr)\n",
    "\n",
    "In this course we will cover\n",
    "1. A [quick introduction](#intro) on the code that we will adress and auxiliary functions\n",
    "2. A simple implementation for a [single neuron](#single)\n",
    "3. An implementation of [regression](#implem) using scikit-learn\n",
    "4. Some [common good practices](#practices) in machine learning"
   ]
  },
  {
   "cell_type": "markdown",
   "metadata": {},
   "source": [
    "# Introducing neural networks"
   ]
  },
  {
   "cell_type": "markdown",
   "metadata": {},
   "source": [
    "In this tutorial, we will cover a more advanced classification algorithm through the use of *neural networks*. The tutorial starts by performing a simple **single neuron** discrimination of two random distributions. Then, we will study the typical **XOR problem** by using a more advanced 2-layer **perceptron**. Finally, we generalize the use of neural networks in order to perform classification on a given set of audio files."
   ]
  },
  {
   "cell_type": "markdown",
   "metadata": {},
   "source": [
    "We are going to use relatively _low-level_ libraries to perform the first exercises (implementing your own neurons)"
   ]
  },
  {
   "cell_type": "code",
   "execution_count": null,
   "metadata": {},
   "outputs": [],
   "source": [
    "import time\n",
    "import numpy as np\n",
    "%matplotlib inline\n",
    "from matplotlib import pyplot as plt"
   ]
  },
  {
   "cell_type": "markdown",
   "metadata": {},
   "source": [
    "To simplify your work, we provide a first set of functions that provides simple plotting functionnalities (from the `helper_plot.py` file)\n",
    "\n",
    "  |**File**|*Explanation*|\n",
    "  |-------:|:---------|\n",
    "  |`plot_boundary`|Plots the decision boundary of a single neuron with 2-dimensional inputs|\n",
    "  |`plot_patterns`|Plots (bi-dimensionnal) input patterns|"
   ]
  },
  {
   "cell_type": "code",
   "execution_count": null,
   "metadata": {},
   "outputs": [],
   "source": [
    "from helper_plot import plot_boundary\n",
    "from helper_plot import plot_patterns"
   ]
  },
  {
   "cell_type": "markdown",
   "metadata": {},
   "source": [
    "Remember that a single neuron is only able to learn _linearly separable_ problems. To produce such classes of problems, we provide a script that draw a set of random 2-dimensional points, then choose a random line in this space that will act as the linear frontier between 2 classes (hence defining a linear 2-class problem). The variables that will be used by your code are the following.  \n",
    "\n",
    "```Matlab\n",
    "desired       % classes of the patterns \n",
    "inputs        % 2 x n final matrix of random input patterns\n",
    "weights       % 2 x 1 vector of neuron weights\n",
    "bias          % 1 x 1 vector of bias\n",
    "```\n",
    "\n",
    "You can execute the code below to see our simple classification problem. (Note that running the same cell multiple times produces a different starting dataset)."
   ]
  },
  {
   "cell_type": "code",
   "execution_count": 16,
   "metadata": {},
   "outputs": [
    {
     "data": {
      "image/png": "[encoded data removed]",
      "text/plain": [
       "<Figure size 720x576 with 1 Axes>"
      ]
     },
     "metadata": {},
     "output_type": "display_data"
    }
   ],
   "source": [
    "# Number of points to generate\n",
    "nPats = 30 + np.floor(np.random.rand() * 30);\n",
    "# Generate 2-dimensional random points\n",
    "patterns = np.random.rand(2, int(nPats)) * 2 - 1;\n",
    "# Slope of separating line\n",
    "slope = np.log(np.random.rand() * 10);\n",
    "yint = np.random.rand() * 2 - 1;\n",
    "# Create the indexes for a two-class problem\n",
    "desired = (patterns[1,:] - patterns[0,:] * slope - yint > 0) * 1;\n",
    "# Plot the corresponding pattern\n",
    "fig = plot_patterns(patterns,desired);\n",
    "\n"
   ]
  },
  {
   "cell_type": "markdown",
   "metadata": {},
   "source": [
    "## Single neuron\n",
    "\n",
    "For the first parts of the tutorial, we will perform the simplest classification model possible in a neural network setting, a single neuron. We briefly recall here that; given an input vector $ \\mathbf{x} \\in \\mathbb{R}^{n} $, a single neuron computes the function  \n",
    "\n",
    "$$\n",
    "\\begin{equation}\n",
    "\\hat{y}=\\phi\\left(\\sum_{i = 1}^{n}w_{i}.x_{i} + b\\right)\n",
    "\\label{eq1}\n",
    "\\end{equation}\n",
    "$$\n",
    "\n",
    "with $ \\mathbf{w} \\in \\mathbb{R}^{n} $ a weight vector, $ b $ a bias and $ \\phi\\left(\\cdot\\right) $ an *activation function*. Therefore, if we consider the *threshold* activation function ($ \\phi_{0}\\left(x\\right)=1 $ if $ x \\geq 0$), a single neuron simply performs an *affine transform* and then a *linear* discrimination of the space. A network will be composed of _layers_ of these neurons, which produce successive computations\n",
    "\n",
    "<img src=\"images/02_feedforward_nn.png\" align=\"center\"/>\n",
    "\n",
    "Geometrically, a single neuron computes an hyperplane that separates the space. In order to learn, we have to adjust the weights and know \"how much wrong we are\". To do so, we consider that we know the desired output $ d $ of a system for a given example $ \\mathbf{x} $ (eg. a predicted value for a regression system, a class value for a classification system). Therefore, we define the loss function $ \\mathcal{L}_{\\mathcal{D}} $ over a whole dataset as\n",
    "\n",
    "$$\n",
    "\\begin{equation}\n",
    "\\mathcal{L}_{\\mathcal{D}}=\\sum_{j=1}^{k_{\\mathcal{D}}}\\left\\Vert y_{j}-\\hat{y}_{j}\\right\\Vert ^{2}\n",
    "\\label{eq2}\n",
    "\\end{equation}\n",
    "$$\n",
    "\n",
    "In order to know how to change the weights based on the value of the errors, we need to now \"how to change it to make it better\". Therefore, we should compute the sets of derivatives of the error given each parameter\n",
    "\n",
    "$$\n",
    "\\begin{equation}\n",
    "\\Delta\\bar{\\mathbf{w}}=\\left(\\frac{\\delta\\mathcal{L}}}{\\delta w_{1}},\\ldots,\\frac{\\delta\\mathcal{L}}}{\\delta w_{n}}\\right)\n",
    "\\label{eq3}\n",
    "\\end{equation}\n",
    "$$ \n",
    "\n",
    "***\n",
    "\n",
    "**Exercise**  \n",
    "\n",
    "  1. Perform the derivatives of the output given a single neuron\n",
    "  2. Perform the derivatives for the bias as well\n",
    "\n",
    "***"
   ]
  },
  {
   "cell_type": "markdown",
   "metadata": {},
   "source": [
    "### Training your own neuron\n",
    "\n",
    "We will start by training a single neuron to learn how to perform this discrimination with a linear problem (so that a single neuron is enough to solve it). "
   ]
  },
  {
   "cell_type": "code",
   "execution_count": 66,
   "metadata": {},
   "outputs": [
    {
     "name": "stdout",
     "output_type": "stream",
     "text": [
      "[[0.28321038 1.47143326]]\n",
      "[[-0.24088299]]\n"
     ]
    }
   ],
   "source": [
    "# Inputs to use\n",
    "inputs = patterns;\n",
    "# Initialize the weights\n",
    "weights = np.random.randn(1, 2);\n",
    "bias = np.random.randn(1, 1)\n",
    "# Learning rate\n",
    "eta = 0.05;\n",
    "# Weight decay\n",
    "lambdaW = 0.1\n",
    "\n",
    "print(weights)\n",
    "print(bias)"
   ]
  },
  {
   "cell_type": "markdown",
   "metadata": {},
   "source": [
    "Now you need to update the following code loop to ensure that your neuron learns to separate between the classes \n",
    "***\n",
    "\n",
    "**Exercise**\n",
    "  1. Update the loop so that it computes the forward propagation error\n",
    "  2. Update the loop to perform learning (based on back-propagation)\n",
    "  3. Run the learning procedure, which should produce a result similar to that displayed on the website\n",
    "  4. Perform multiple re-runs by **tweaking the hyperparameters** (learning rate, weight decay)\n",
    "  5. What observations can you make on the learning process?\n",
    "  6. (Optional) Change the input patterns, and confirm your observations.\n",
    "  6. (Optional) Incorporate the bias in the weights to obtain a **vectorized** code.\n",
    "\n",
    "***"
   ]
  },
  {
   "cell_type": "code",
   "execution_count": 67,
   "metadata": {},
   "outputs": [
    {
     "name": "stdout",
     "output_type": "stream",
     "text": [
      " 0.  weights = -0.242073, -0.190087, 1.094270\n",
      " 1.  weights = -0.240883, -0.535081, 0.738064\n",
      " 2.  weights = -0.237312, -0.779966, 0.466709\n",
      " 3.  weights = -0.233740, -0.849745, 0.414067\n",
      " 4.  weights = -0.232550, -0.857627, 0.426020\n",
      " 5.  weights = -0.232550, -0.857627, 0.426020\n",
      " 6.  weights = -0.232550, -0.857627, 0.426020\n",
      " 7.  weights = -0.232550, -0.857627, 0.426020\n",
      " 8.  weights = -0.232550, -0.857627, 0.426020\n",
      " 9.  weights = -0.232550, -0.857627, 0.426020\n",
      "10.  weights = -0.232550, -0.857627, 0.426020\n",
      "11.  weights = -0.232550, -0.857627, 0.426020\n",
      "12.  weights = -0.232550, -0.857627, 0.426020\n",
      "13.  weights = -0.232550, -0.857627, 0.426020\n",
      "14.  weights = -0.232550, -0.857627, 0.426020\n",
      "15.  weights = -0.232550, -0.857627, 0.426020\n",
      "16.  weights = -0.232550, -0.857627, 0.426020\n",
      "17.  weights = -0.232550, -0.857627, 0.426020\n",
      "18.  weights = -0.232550, -0.857627, 0.426020\n",
      "19.  weights = -0.232550, -0.857627, 0.426020\n",
      "20.  weights = -0.232550, -0.857627, 0.426020\n",
      "21.  weights = -0.232550, -0.857627, 0.426020\n",
      "22.  weights = -0.232550, -0.857627, 0.426020\n",
      "23.  weights = -0.232550, -0.857627, 0.426020\n",
      "24.  weights = -0.232550, -0.857627, 0.426020\n",
      "25.  weights = -0.232550, -0.857627, 0.426020\n",
      "26.  weights = -0.232550, -0.857627, 0.426020\n",
      "27.  weights = -0.232550, -0.857627, 0.426020\n",
      "28.  weights = -0.232550, -0.857627, 0.426020\n",
      "29.  weights = -0.232550, -0.857627, 0.426020\n",
      "30.  weights = -0.232550, -0.857627, 0.426020\n",
      "31.  weights = -0.232550, -0.857627, 0.426020\n",
      "32.  weights = -0.232550, -0.857627, 0.426020\n",
      "33.  weights = -0.232550, -0.857627, 0.426020\n",
      "34.  weights = -0.232550, -0.857627, 0.426020\n",
      "35.  weights = -0.232550, -0.857627, 0.426020\n",
      "36.  weights = -0.232550, -0.857627, 0.426020\n",
      "37.  weights = -0.232550, -0.857627, 0.426020\n",
      "38.  weights = -0.232550, -0.857627, 0.426020\n",
      "39.  weights = -0.232550, -0.857627, 0.426020\n",
      "40.  weights = -0.232550, -0.857627, 0.426020\n",
      "41.  weights = -0.232550, -0.857627, 0.426020\n",
      "42.  weights = -0.232550, -0.857627, 0.426020\n",
      "43.  weights = -0.232550, -0.857627, 0.426020\n",
      "44.  weights = -0.232550, -0.857627, 0.426020\n",
      "45.  weights = -0.232550, -0.857627, 0.426020\n",
      "46.  weights = -0.232550, -0.857627, 0.426020\n",
      "47.  weights = -0.232550, -0.857627, 0.426020\n",
      "48.  weights = -0.232550, -0.857627, 0.426020\n",
      "49.  weights = -0.232550, -0.857627, 0.426020\n"
     ]
    },
    {
     "data": {
      "image/png": "[encoded data removed]",
      "text/plain": [
       "<Figure size 720x576 with 1 Axes>"
      ]
     },
     "metadata": {},
     "output_type": "display_data"
    }
   ],
   "source": [
    "# Plot the corresponding pattern\n",
    "fig = plot_patterns(patterns,desired);\n",
    "plt.draw()\n",
    "# Update loop\n",
    "\n",
    "def activation_func(x):\n",
    "    return(1*(x>=0)+0*(x<0))\n",
    "\n",
    "def forward_pass(inputs_,weights_,bias_):\n",
    "    y=activation_func(np.dot(weights_,inputs_)+bias_)\n",
    "    return(y)\n",
    "\n",
    "def back_prop(inputs_,desired_,weights_,bias_,eta_):\n",
    "    error=desired_-forward_pass(inputs_,weights_,bias_)\n",
    "    new_weights_=weights_+eta*np.dot(error,inputs_.transpose())\n",
    "    new_bias_=bias_+eta*np.mean(error)\n",
    "    \n",
    "    return(new_weights_, new_bias_)\n",
    "    \n",
    "for i in range(50):\n",
    "    weights, bias= back_prop(inputs,desired,weights,bias,eta)\n",
    "        \n",
    "    print('%2d.  weights = %f, %f, %f' % (i, bias[0, 0], weights[0, 0], weights[0, 1]))\n",
    "    plot_boundary(np.concatenate((bias, weights), axis=1), i, '--', fig)\n",
    "    plt.draw()\n",
    "    time.sleep(0.2)\n",
    "plot_boundary(np.concatenate((bias, weights), axis=1), i, '-', fig);\n"
   ]
  },
  {
   "cell_type": "markdown",
   "metadata": {
    "tags": []
   },
   "source": [
    "### 2-layer XOR problem\n",
    "\n",
    "In most cases, classification problems are far from being linear. Therefore, we need more advanced methods to be able to compute non-linear class boundaries. The advantage of neural networks is that the same principle can be applied in a *layer-wise* fashion. This allows to further discriminate the space in sub-regions (as seen in the course). We will try to implement the 2-layer *perceptron* that can provide a solution to the infamous XOR problem. The idea is now to have the output of the first neurons to be connected to a set of other neurons. Therefore, if we take back our previous formulation, we have the same output for the first neuron(s) $\\hat{y}$, that we will now term as $y^{(1)}$. Then, we feed these outputs to a second layer of neurons, which gives\n",
    "\n",
    "\n",
    "$$\n",
    "\\begin{equation}\n",
    "y^{(2)}=\\phi\\left(\\sum_{i = 1}^{n}w_{i}.y^{(1)}_{i} + b\\right)\n",
    "\\label{eq6}\n",
    "\\end{equation}\n",
    "$$  \n",
    "\n",
    "Finally, we will rely on the same loss $\\mathcal{L_{D}}$ as in the previous exercise, but the outputs used are $y_2$ instead of $y$. As in the previous case, we now need to compute the derivatives of the weights and biases for several layers . However, you should see that some form of generalization might be possible for any number of layer.  \n"
   ]
  },
  {
   "cell_type": "markdown",
   "metadata": {},
   "source": [
    "***\n",
    "\n",
    "**Exercise**  \n",
    "  1. Perform the derivatives for the last layer specifically\n",
    "  2. Define a generalized derivative for any previous layer\n",
    "\n",
    "***"
   ]
  },
  {
   "cell_type": "markdown",
   "metadata": {},
   "source": [
    "We can construct the prototypical set of XOR values by using the following code (note that this is the most simple case, but still this is typically a problem that cannot be solved by a _linear classifier_"
   ]
  },
  {
   "cell_type": "code",
   "execution_count": 110,
   "metadata": {},
   "outputs": [
    {
     "data": {
      "image/png": "[encoded data removed]",
      "text/plain": [
       "<Figure size 720x576 with 1 Axes>"
      ]
     },
     "metadata": {},
     "output_type": "display_data"
    }
   ],
   "source": [
    "#dense patterns\n",
    "\"\"\"\n",
    "patterns=[[-1, -1],[-1,  1],[1, -1],[1,  1]]\n",
    "for i in range(10):\n",
    "    patterns.append([-1+(np.random.randn(0,2)-1)*0.01, -1+(np.random.randn(0,2)-1)*0.01])\n",
    "    patterns.append([-1+(np.random.randn(0,2)-1)*0.01, 1+(np.random.randn(0,2)-1)*0.01])\n",
    "    patterns.append([1+(np.random.randn(0,2)-1)*0.01, -1+(np.random.randn(0,2)-1)*0.01])\n",
    "    patterns.append([1+(np.random.randn(0,2)-1)*0.01, 1+(np.random.randn(0,2)-1)*0.01])\n",
    "    \n",
    "patterns=np.array(patterns).transpose()\n",
    "\"\"\"\n",
    "patterns = np.array([[-1, -1],[-1,  1],[1, -1],[1,  1]]).transpose() # Input patterns\n",
    "desired = np.array([0, 1, 1, 0])                       # Corresponding classes\n",
    "# Initialize based on their sizes\n",
    "nInputs = patterns.shape[0]\n",
    "nOutputs = 1\n",
    "nPat = patterns.shape[1]\n",
    "# First plot the patterns\n",
    "fig = plot_patterns(patterns, desired);"
   ]
  },
  {
   "cell_type": "markdown",
   "metadata": {},
   "source": [
    "The variables that will be used by your code are the following.\n",
    "\n",
    "```Matlab\n",
    "patterns          % 2 x n matrix of random points\n",
    "desired           % classes of the patterns \n",
    "inputs1           % 3 x n final matrix of inputs (accounting for bias)\n",
    "nHiddens          % Number of hidden units\n",
    "learnRate         % Learning rate parameter\n",
    "momentum          % Momentum parameter (bonus)\n",
    "weights1          % 1st layer weights\n",
    "weights2          % 2nd layer weights\n",
    "TSS_Limit         % Sum-squared error limit\n",
    "```"
   ]
  },
  {
   "cell_type": "code",
   "execution_count": 111,
   "metadata": {},
   "outputs": [
    {
     "name": "stdout",
     "output_type": "stream",
     "text": [
      "[0 1 1 0]\n"
     ]
    }
   ],
   "source": [
    "nHiddens = 2           # Number of hidden units\n",
    "learnRate = 0.001       # Learning rate parameter\n",
    "momentum = 0.1         # Momentum parameter\n",
    "# Overall input patterns\n",
    "inputs = patterns\n",
    "TSS_Limit = 0.02                                           # Sum-squared error limit\n",
    "# Learning rate\n",
    "eta = 0.001\n",
    "\n",
    "print(desired)"
   ]
  },
  {
   "cell_type": "markdown",
   "metadata": {},
   "source": [
    "***\n",
    "\n",
    "**Exercise**  \n",
    "\n",
    "  1. Update the forward propagation and error computation (compared to desired).\n",
    "  2. Update the back-propagation part to learn the weights of both layers.\n",
    "  3. Run the learning, which should produce a result similar to that displayed below.\n",
    "  4. Perform multiple re-runs of the learning procedure (re-launching with different initializations)\n",
    "  5. What observations can you make on the learning process?\n",
    "  6. What happens if you initialize all weights to zeros?\n",
    "  7. (Optional) Implement the *sparsity* constraint in your neural network.\n",
    "  7. (Optional) Implement the *weight decay* constraint in your network.\n",
    "  7. (Optional) Add the *momentum* to the learning procedure.\n",
    "  \n",
    "*For optional questions, please look after the first code box for more information*\n",
    "\n",
    "***"
   ]
  },
  {
   "cell_type": "code",
   "execution_count": 112,
   "metadata": {},
   "outputs": [
    {
     "data": {
      "image/png": "[encoded data removed]",
      "text/plain": [
       "<Figure size 720x576 with 1 Axes>"
      ]
     },
     "metadata": {},
     "output_type": "display_data"
    }
   ],
   "source": [
    "# Weights of first and second layer\n",
    "weights1 = (np.random.randn(nHiddens, nInputs) - 0.5)      # 1st layer weights\n",
    "weights2 = (np.random.randn(nOutputs, nHiddens) - 0.5)     # 2nd layer weights\n",
    "bias1 = (np.random.randn(nHiddens, 1) - 0.5)               # 1st layer biases\n",
    "bias2 = (np.random.randn(nOutputs, 1) - 0.5)               # 2nd layer biases\n",
    "# First plot the patterns\n",
    "fig = plot_patterns(patterns, desired);\n",
    "# Iterate for a fixed number of iterations\n",
    "\n",
    "def sigmoid(x):\n",
    "    return(1/(1+np.exp(x)))\n",
    "\n",
    "def sigmoid_derivative(x):\n",
    "    return(sigmoid(x)*(1-sigmoid(x)))\n",
    "\n",
    "def forward_pass(inputs_,weights1_,weights2_,bias1_,bias2_):\n",
    "    y1=sigmoid(np.dot(weights1_,inputs_)+bias1_)\n",
    "    y2=sigmoid(np.dot(weights2_,y1)+bias2_)\n",
    "    return(y1,y2)\n",
    "    \n",
    "def back_propagation(desired_,inputs_,weights1_,weights2_,bias1_,bias2_):\n",
    "    y1,y2=forward_pass(inputs_,weights1_,weights2_,bias1_,bias2_)\n",
    "    \n",
    "    error2=desired_-y2\n",
    "    dy2=error2*sigmoid_derivative(y2)\n",
    "    \n",
    "    error1=np.dot(weights2_.transpose(),dy2)\n",
    "    dy1=error1*sigmoid_derivative(y1)\n",
    "    \n",
    "    new_weights2_=weights2_+eta*np.dot(dy2,y1.transpose())\n",
    "    new_bias2_=bias2_+eta*np.mean(error2,axis=1)[:,np.newaxis]\n",
    "    \n",
    "    new_weights1_=weights1_+eta*np.dot(inputs_,dy1.transpose())\n",
    "    new_bias1_=bias1_+eta*np.mean(dy1,axis=1)[:,np.newaxis]\n",
    "    \n",
    "    return(new_weights1_, new_weights2_, new_bias1_, new_bias2_)\n",
    "    \n",
    "for epoch in range(200):\n",
    "    \n",
    "    weights1, weights2, bias1, bias2=back_propagation(desired,inputs,weights1,weights2,bias1,bias2)\n",
    "\n",
    "    \"\"\"\n",
    "    print('Epoch %3d:  Error = %f' % (epoch, TSS));\n",
    "   \n",
    "    if TSS < TSS_Limit:\n",
    "        break\n",
    "    \"\"\"\n",
    "    if (epoch - 1 % 20)==0:\n",
    "        plot_boundary(np.concatenate((bias2, weights2), axis=1), epoch, '--', fig)\n",
    "\n",
    "plot_boundary(np.concatenate((bias1, weights1), axis=1), epoch, '-', fig)"
   ]
  },
  {
   "cell_type": "markdown",
   "metadata": {},
   "source": [
    "**Optional questions**\n",
    "\n",
    "2. *Weight decay* constraint\n",
    "\n",
    "As nothing constrains the weights in the network, we can note that usually all weights vector given a multiplicative factor might be equivalent, which can stall the learning (and lead to exploding weights). The *weight decay* allows to regularize the learning by penalizing weights with a too wide amplitude. The idea is to add this constraint as a term to the final loss (which leads to an indirect \"pressure\" on the learning process. Therefore, the final loss will be defined as\n",
    "\n",
    "$$\n",
    "\\begin{equation}\n",
    "\\mathcal{L}_{final}=\\mathcal{L_D} + \\lambda \\sum_{l} \\sum_{i} \\sum_{j} \\left( W_{ij}^{l} \\right)^{2}\n",
    "\\end{equation}\n",
    "$$\n",
    "\n",
    "where the parameter $\\lambda$ controls the relative importance of the two terms.\n",
    "\n",
    "3. *Momentum* in learning\n",
    "\n",
    "Usually, in complex problems, the gradient can be very noisy and, therefore, the learning might oscillate widely. In order to reduce this problem, we can *smooth* the different gradient updates by retaining the values of the gradient at each iteration and then performing an update based on the latest gradient $\\delta_{i}^{t}$ and the gradient at the previous iteration $\\delta_{i}^{t-1}$. Therefore, a gradient update is applied as\n",
    "\n",
    "$$\n",
    "\\begin{equation}\n",
    "\\delta_{final}^{t} = \\delta_{i}^{t} + m.\\delta_{i}^{t-1}\n",
    "\\end{equation}\n",
    "$$\n",
    "\n",
    "with $m$ the momentum parameter, which control the amount of gradient smoothing."
   ]
  },
  {
   "cell_type": "markdown",
   "metadata": {},
   "source": [
    "## 3-layer audio classification (A FAIRE)\n",
    "\n",
    "Finally, we will attack a complete audio classification problem and try to perform neural network learning on a set of audio files. The data structure will be the same as the one used for parts 1 and 2. As discussed during the courses, even though a 2-layer neural network can provide non-linear boundaries, it can not perform \"holes\" inside those regions. In order to obtain an improved classification, we will now rely on a 3-layer neural network. The modification to the code of section 3.2 should be minimal, as the back-propagation will be similar for the new layer as one of the two others. We do not develop the math here as it is simply a re-application of the previous rules with an additional layer (which derivatives you should have generalized in the previous exercise).  \n",
    "\n",
    "However, up until now, we only performed *binary classification* problems, but this time we need to obtain a decision rule for multiple classes. Therefore, we cannot rely on simply computing the distance between desired patterns and the obtained binary value. The idea here is to rely on the *softmax regression*, by considering classes as a vector of probabilities. The desired answers will therefore be considered as a set of *probabilities*, where the desired class is $1$ and the others are $0$ (called *one-hot* representation). Then, the cost function will rely on the softmax formulation\n",
    "\n",
    "$$\n",
    "\\begin{equation}\n",
    "\\mathcal{L_D}(\\theta) = - \\frac{1}{m} \\left[ \\sum_{i=1}^{m} \\sum_{j=1}^{k} 1\\left\\{y^{(i)} = j\\right\\} log \\frac{e^{\\theta_{j}^{T} x^{(i)}}}{\\sum_{l=1}^{k} e^{ \\theta_{l}^{T} x^{(i)} }}  \\right]\n",
    "\\end{equation}\n",
    "$$\n",
    "\n",
    "Therefore, we compute the output of the softmax by taking \n",
    "\n",
    "$$\n",
    "\\begin{equation}\n",
    "p(y^{(i)} = j | x^{(i)}; \\theta) = \\frac{e^{\\theta_{j}^{T} x^{(i)}}}{\\sum_{l=1}^{k} e^{ \\theta_{l}^{T} x^{(i)}} }\n",
    "\\end{equation}\n",
    "$$\n",
    "\n",
    "By taking derivatives, we can show that the gradient of the softmax layer is\n",
    "\n",
    "$$\n",
    "\\begin{equation}\n",
    "\\nabla_{\\theta_{j}} \\mathcal{L_D}(\\theta) = - \\frac{1}{m} \\sum_{i=1}^{m}{ \\left[ x^{(i)} \\left( 1\\{ y^{(i)} = j\\}  - p(y^{(i)} = j \\mid x^{(i)}, \\theta) \\right) \\right]}\n",
    "\\end{equation}\n",
    "$$"
   ]
  },
  {
   "cell_type": "markdown",
   "metadata": {},
   "source": [
    "### Sweet activation functions\n",
    "\n",
    "As discussed in the course, the interest of stacking layers is that there is an _activation function_, which allows non-linear interactions between the dimensions (and avoids to only compute a single huge affine transform). Although the `sigmoid` function has been historically the most used, there has been some large developments since. Notably the `ReLU` (Rectified Linear Unit) is one of the major difference in modern networks (we will see more about that in a later course)"
   ]
  },
  {
   "cell_type": "code",
   "execution_count": null,
   "metadata": {},
   "outputs": [],
   "source": [
    "# Function for computing the Sigmoid activation\n",
    "def sigmoid(x):\n",
    "    return 1 / (1 + np.exp(-x))\n",
    "def dsigmoid(a):\n",
    "    return a * (1.0 - a)\n",
    "# Function for computing the ReLU activation\n",
    "def relu(x):\n",
    "    return np.maximum(0, x)\n",
    "def drelu(x):\n",
    "    return 1 / (1 + np.exp(-x))\n",
    "# Function for computing the Tanh activation\n",
    "def tanh(x):\n",
    "    return np.tanh(x);\n",
    "def dtanh(x): \n",
    "    return np.cosh(x) ^ -2"
   ]
  },
  {
   "cell_type": "markdown",
   "metadata": {},
   "source": [
    "Here, we plot some simple examples of what these activation functions look like. You can try to rely on these functions in your previous training code and witness the differences in training.\n"
   ]
  },
  {
   "cell_type": "code",
   "execution_count": null,
   "metadata": {},
   "outputs": [],
   "source": [
    "from helper_plot import prep_plots, finalize_plots\n",
    "funcs = [('sigmoid',sigmoid,'red'), ('tanh',tanh,'orange'), ('relu',relu,'yellow')]\n",
    "axes = prep_plots([funcs[0][0], funcs[1][0], funcs[2][0]], fig_size=(18,5), fig_num=1)\n",
    "x_plot = np.linspace(-5,5,100)\n",
    "np.maximum(0, x_plot)\n",
    "for f in range(3):\n",
    "    axes[f].plot(x_plot, funcs[f][1](x_plot), color=funcs[f][2], linewidth=4, label=funcs[f][0])\n",
    "finalize_plots(axes, fig_title=\"Activation functions\")"
   ]
  },
  {
   "cell_type": "markdown",
   "metadata": {},
   "source": [
    "## Coding the whole network from scratch\n",
    "\n",
    "You should now have all the tools necessary to apply neural networks from scratch to a more complex problem. In the following exercise, we simply removed any guideline code, and you need to code all the procedure for training a NN and **apply it to audio data**. You will use the spectral features discussed in the previous exercise as an input.\n",
    "\n",
    "***\n",
    "\n",
    "**Exercise**\n",
    "\n",
    "  1. Based on the previous neural network, upgrade the code to a 3-layer neural network\n",
    "  2. Implement the *softmax regression* on top of your 3-layer network\n",
    "  3. Use the provided code to perform classification on a pre-defined set of features\n",
    "  4. As previously, change the set of features to assess their different accuracies\n",
    "  5. Evaluate the neural network accuracy for all features combinations\n",
    "  6. What happens if the learning rate is too large ? What is this phenomenon ?\n",
    "  7. (Optional) Perform a more advanced visualization of the learning process.\n",
    "  \n",
    "***"
   ]
  },
  {
   "cell_type": "code",
   "execution_count": null,
   "metadata": {},
   "outputs": [],
   "source": [
    "# Iterate for a fixed number of iterations\n",
    "for epoch in range(500):\n",
    "    \n",
    "    ######################\n",
    "    # YOUR CODE GOES HERE\n",
    "    ######################\n",
    "    \n",
    "    print('Epoch %3d:  Error = %f\\n' % epoch, TSS);\n",
    "    if TSS < TSS_Limit:\n",
    "        break\n",
    "plo_boundary(np.concatenate(bias1, weights1), epoch, '-');"
   ]
  },
  {
   "cell_type": "markdown",
   "metadata": {},
   "source": [
    "## Using Pytorch to enjoy life\n",
    "\n",
    "Up to now, we have been writing every operations by ourselves (in order to better understand the mathematics behind NN). However, there exists of course some simplifying libraries that provide large simplifications to this question.\n",
    "\n",
    "One of the most powerful and complete library of this sort is `Pytorch`, which has been developed for several years (even prior to the recent boom of deep learning). `Pytorch` provides a large set of pre-coded layers, but also **computational graphs** and **autograd**, which are very powerful paradigms allowing to define complex operators and automatically taking derivatives.\n",
    "\n",
    "### Defining our network\n",
    "\n",
    "When building neural networks we frequently think of arranging the computation into layers, some of which have learnable parameters which will be optimized during learning. In `PyTorch`, the `nn` package provides higher-level abstractions over raw computational graphs that are useful for building neural networks. The `nn` package defines a set of `Modules`, which are roughly equivalent to neural network layers. A `Module` receives input `Tensors` and computes output `Tensors`, but may also hold internal state such as `Tensors` containing learnable parameters. The nn package also defines a set of useful loss functions that are commonly used when training neural networks.\n",
    "\n",
    "In the following example, we use the `nn` package to show how easy it is to instantiate our previous three-layers network"
   ]
  },
  {
   "cell_type": "code",
   "execution_count": null,
   "metadata": {},
   "outputs": [],
   "source": [
    "import torch\n",
    "# Define the input dimensions\n",
    "in_size = 1000\n",
    "# Number of neurons in a layer\n",
    "hidden_size = 100\n",
    "# Output (target) dimension\n",
    "output_size = 10\n",
    "# Use the nn package to define our model and loss function.\n",
    "model = torch.nn.Sequential(\n",
    "    torch.nn.Linear(in_size, hidden_size),\n",
    "    torch.nn.ReLU(),\n",
    "    torch.nn.Linear(hidden_size, hidden_size),\n",
    "    torch.nn.ReLU(),\n",
    "    torch.nn.Linear(hidden_size, output_size),\n",
    "    torch.nn.Softmax(dim=1)\n",
    ")"
   ]
  },
  {
   "cell_type": "markdown",
   "metadata": {},
   "source": [
    "### Optimizing the network\n",
    "\n",
    "Up to this point we have updated the weights of our models by manually performing the gradient descent algorithm (changing the parameters vectors). Although this is not a huge burden for simple optimization algorithms like stochastic gradient descent, in practice we often train neural networks using more sophisticated optimizers like AdaGrad, RMSProp or Adam (that we will see later in this course)\n",
    "\n",
    "The `optim` package in PyTorch abstracts the idea of an optimization algorithm and provides implementations of commonly used optimization algorithms, and greatly simplfies the training loop associated with training a neural network.\n",
    "\n",
    "For the sake of presentation we will use random inputs $\\mathbf{x}$ that should be matched with random outputs $\\mathbf{y}$"
   ]
  },
  {
   "cell_type": "code",
   "execution_count": null,
   "metadata": {},
   "outputs": [],
   "source": [
    "batch_size = 64\n",
    "# Create random Tensors to hold inputs and outputs\n",
    "x = torch.randn(N, D_in)\n",
    "y = torch.randn(N, D_out)"
   ]
  },
  {
   "cell_type": "markdown",
   "metadata": {},
   "source": [
    "In the following example we optimize the model using the Adam algorithm provided by the `optim` package, based on a `MSE` loss."
   ]
  },
  {
   "cell_type": "code",
   "execution_count": null,
   "metadata": {},
   "outputs": [],
   "source": [
    "# Learning rate\n",
    "learning_rate = 1e-4\n",
    "# Loss function that we will use\n",
    "loss_fn = torch.nn.MSELoss(reduction='sum')\n",
    "# Optimizer to fit the weights of the network\n",
    "optimizer = torch.optim.Adam(model.parameters(), lr=learning_rate)\n",
    "for t in range(500):\n",
    "    # Forward pass: compute predicted y by passing x to the model.\n",
    "    y_pred = model(x)\n",
    "    # Compute the loss.\n",
    "    loss = loss_fn(y_pred, y)\n",
    "    # Before the backward pass, zero all of the network gradients\n",
    "    optimizer.zero_grad()\n",
    "    # Backward pass: compute gradient of the loss with respect to parameters\n",
    "    loss.backward()\n",
    "    # Calling the step function to update the parameters\n",
    "    optimizer.step()"
   ]
  },
  {
   "cell_type": "markdown",
   "metadata": {},
   "source": [
    "## Using Pytorch to classify audio\n",
    "\n",
    "Now that we know the main components of `Pytorch` to define and optimize networks, your assignement is to define a complete classification problem from audio data, by relying on this toolbox\n",
    "\n",
    "***\n",
    "\n",
    "**Exercise**\n",
    "\n",
    "  1. Use `Pytorch` to define a model for audio classification\n",
    "  2. Import the audio features dataset and check that your model produces an output\n",
    "  3. Write the optimization loop (think carefully about the _loss function_\n",
    "  4. As previously, change the set of features to assess their different accuracies\n",
    "  5. Think of how you could use more complex features (time series, audio, STFT) to classify your data\n",
    "  \n",
    "***"
   ]
  },
  {
   "cell_type": "code",
   "execution_count": null,
   "metadata": {},
   "outputs": [],
   "source": [
    "\n",
    "######################\n",
    "# YOUR CODE GOES HERE\n",
    "######################\n",
    "    "
   ]
  }
 ],
 "metadata": {
  "kernelspec": {
   "display_name": "Python 3 (ipykernel)",
   "language": "python",
   "name": "python3"
  },
  "language_info": {
   "codemirror_mode": {
    "name": "ipython",
    "version": 3
   },
   "file_extension": ".py",
   "mimetype": "text/x-python",
   "name": "python",
   "nbconvert_exporter": "python",
   "pygments_lexer": "ipython3",
   "version": "3.9.12"
  }
 },
 "nbformat": 4,
 "nbformat_minor": 4
}
